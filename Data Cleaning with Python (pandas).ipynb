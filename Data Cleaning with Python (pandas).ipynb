{
 "cells": [
  {
   "cell_type": "markdown",
   "id": "8bbcaf6a-d8be-45c3-9104-a20f590cb3a6",
   "metadata": {},
   "source": [
    "****Goal: Take a messy dataset → clean → make it ready for analysis.****"
   ]
  },
  {
   "cell_type": "code",
   "execution_count": 2,
   "id": "7d4113f2-42ec-462a-a6ef-14783fdf8e18",
   "metadata": {},
   "outputs": [],
   "source": [
    "import pandas as pd"
   ]
  },
  {
   "cell_type": "code",
   "execution_count": 3,
   "id": "5421c201-325a-4473-99a7-632cafae202b",
   "metadata": {},
   "outputs": [],
   "source": [
    "df = pd.read_csv(r\"C:\\Users\\vrssv\\Desktop\\DA\\Challenge\\Day 01\\Sales_data_sample.csv\", encoding='latin1')"
   ]
  },
  {
   "cell_type": "markdown",
   "id": "d5a8a6c8-28c5-4ea1-8b21-703cdfeff049",
   "metadata": {},
   "source": [
    "pandas lets us work with tabular data like Excel but in Python.\n",
    "\n",
    "encoding='latin1' handles special symbols that UTF-8 can’t read."
   ]
  },
  {
   "cell_type": "code",
   "execution_count": 5,
   "id": "c2f2fc7d-f7cc-4474-bcca-94686a036bb7",
   "metadata": {},
   "outputs": [
    {
     "name": "stdout",
     "output_type": "stream",
     "text": [
      "   ORDERNUMBER  QUANTITYORDERED  PRICEEACH  ORDERLINENUMBER    SALES  \\\n",
      "0        10107               30      95.70                2  2871.00   \n",
      "1        10121               34      81.35                5  2765.90   \n",
      "2        10134               41      94.74                2  3884.34   \n",
      "3        10145               45      83.26                6  3746.70   \n",
      "4        10159               49     100.00               14  5205.27   \n",
      "\n",
      "         ORDERDATE   STATUS  QTR_ID  MONTH_ID  YEAR_ID  ...  \\\n",
      "0   2/24/2003 0:00  Shipped       1         2     2003  ...   \n",
      "1    5/7/2003 0:00  Shipped       2         5     2003  ...   \n",
      "2    7/1/2003 0:00  Shipped       3         7     2003  ...   \n",
      "3   8/25/2003 0:00  Shipped       3         8     2003  ...   \n",
      "4  10/10/2003 0:00  Shipped       4        10     2003  ...   \n",
      "\n",
      "                    ADDRESSLINE1  ADDRESSLINE2           CITY STATE  \\\n",
      "0        897 Long Airport Avenue           NaN            NYC    NY   \n",
      "1             59 rue de l'Abbaye           NaN          Reims   NaN   \n",
      "2  27 rue du Colonel Pierre Avia           NaN          Paris   NaN   \n",
      "3             78934 Hillside Dr.           NaN       Pasadena    CA   \n",
      "4                7734 Strong St.           NaN  San Francisco    CA   \n",
      "\n",
      "  POSTALCODE COUNTRY TERRITORY CONTACTLASTNAME CONTACTFIRSTNAME DEALSIZE  \n",
      "0      10022     USA       NaN              Yu             Kwai    Small  \n",
      "1      51100  France      EMEA         Henriot             Paul    Small  \n",
      "2      75508  France      EMEA        Da Cunha           Daniel   Medium  \n",
      "3      90003     USA       NaN           Young            Julie   Medium  \n",
      "4        NaN     USA       NaN           Brown            Julie   Medium  \n",
      "\n",
      "[5 rows x 25 columns]\n"
     ]
    }
   ],
   "source": [
    "print(df.head())"
   ]
  },
  {
   "cell_type": "markdown",
   "id": "c7964691-7c0e-415d-a6ff-15876c3d5d82",
   "metadata": {},
   "source": [
    "df.head() shows a quick preview so we know what we’re working with."
   ]
  },
  {
   "cell_type": "markdown",
   "id": "83fc9089-14d2-4a44-9f52-a065bf242e15",
   "metadata": {},
   "source": [
    "****Explore the DATA****"
   ]
  },
  {
   "cell_type": "code",
   "execution_count": 8,
   "id": "105839ac-7240-476b-b4a6-a4b64bf13073",
   "metadata": {},
   "outputs": [
    {
     "name": "stdout",
     "output_type": "stream",
     "text": [
      "Rows & Columns (2823, 25)\n"
     ]
    }
   ],
   "source": [
    "# Shape of dataset\n",
    "print(\"Rows & Columns\", df.shape)"
   ]
  },
  {
   "cell_type": "code",
   "execution_count": 9,
   "id": "32050ab2-cf30-4756-8e2c-2d65ab8fa95e",
   "metadata": {},
   "outputs": [
    {
     "name": "stdout",
     "output_type": "stream",
     "text": [
      "ORDERNUMBER           int64\n",
      "QUANTITYORDERED       int64\n",
      "PRICEEACH           float64\n",
      "ORDERLINENUMBER       int64\n",
      "SALES               float64\n",
      "ORDERDATE            object\n",
      "STATUS               object\n",
      "QTR_ID                int64\n",
      "MONTH_ID              int64\n",
      "YEAR_ID               int64\n",
      "PRODUCTLINE          object\n",
      "MSRP                  int64\n",
      "PRODUCTCODE          object\n",
      "CUSTOMERNAME         object\n",
      "PHONE                object\n",
      "ADDRESSLINE1         object\n",
      "ADDRESSLINE2         object\n",
      "CITY                 object\n",
      "STATE                object\n",
      "POSTALCODE           object\n",
      "COUNTRY              object\n",
      "TERRITORY            object\n",
      "CONTACTLASTNAME      object\n",
      "CONTACTFIRSTNAME     object\n",
      "DEALSIZE             object\n",
      "dtype: object\n"
     ]
    }
   ],
   "source": [
    "print(df.dtypes)"
   ]
  },
  {
   "cell_type": "code",
   "execution_count": 10,
   "id": "1401fba9-cc2e-4b8f-bf5d-9a04ddf8f2ac",
   "metadata": {},
   "outputs": [
    {
     "name": "stdout",
     "output_type": "stream",
     "text": [
      "        ORDERNUMBER  QUANTITYORDERED    PRICEEACH  ORDERLINENUMBER  \\\n",
      "count   2823.000000      2823.000000  2823.000000      2823.000000   \n",
      "mean   10258.725115        35.092809    83.658544         6.466171   \n",
      "std       92.085478         9.741443    20.174277         4.225841   \n",
      "min    10100.000000         6.000000    26.880000         1.000000   \n",
      "25%    10180.000000        27.000000    68.860000         3.000000   \n",
      "50%    10262.000000        35.000000    95.700000         6.000000   \n",
      "75%    10333.500000        43.000000   100.000000         9.000000   \n",
      "max    10425.000000        97.000000   100.000000        18.000000   \n",
      "\n",
      "              SALES       QTR_ID     MONTH_ID     YEAR_ID         MSRP  \n",
      "count   2823.000000  2823.000000  2823.000000  2823.00000  2823.000000  \n",
      "mean    3553.889072     2.717676     7.092455  2003.81509   100.715551  \n",
      "std     1841.865106     1.203878     3.656633     0.69967    40.187912  \n",
      "min      482.130000     1.000000     1.000000  2003.00000    33.000000  \n",
      "25%     2203.430000     2.000000     4.000000  2003.00000    68.000000  \n",
      "50%     3184.800000     3.000000     8.000000  2004.00000    99.000000  \n",
      "75%     4508.000000     4.000000    11.000000  2004.00000   124.000000  \n",
      "max    14082.800000     4.000000    12.000000  2005.00000   214.000000  \n"
     ]
    }
   ],
   "source": [
    "print(df.describe())"
   ]
  },
  {
   "cell_type": "code",
   "execution_count": 11,
   "id": "40a84f0c-5085-423e-ab29-e85bf730ae13",
   "metadata": {},
   "outputs": [
    {
     "data": {
      "text/plain": [
       "(2823, 25)"
      ]
     },
     "execution_count": 11,
     "metadata": {},
     "output_type": "execute_result"
    }
   ],
   "source": [
    "df.shape"
   ]
  },
  {
   "cell_type": "code",
   "execution_count": 12,
   "id": "4fd7c442-18a7-4b06-9608-977cf70f71c6",
   "metadata": {},
   "outputs": [
    {
     "name": "stdout",
     "output_type": "stream",
     "text": [
      "<class 'pandas.core.frame.DataFrame'>\n",
      "RangeIndex: 2823 entries, 0 to 2822\n",
      "Data columns (total 25 columns):\n",
      " #   Column            Non-Null Count  Dtype  \n",
      "---  ------            --------------  -----  \n",
      " 0   ORDERNUMBER       2823 non-null   int64  \n",
      " 1   QUANTITYORDERED   2823 non-null   int64  \n",
      " 2   PRICEEACH         2823 non-null   float64\n",
      " 3   ORDERLINENUMBER   2823 non-null   int64  \n",
      " 4   SALES             2823 non-null   float64\n",
      " 5   ORDERDATE         2823 non-null   object \n",
      " 6   STATUS            2823 non-null   object \n",
      " 7   QTR_ID            2823 non-null   int64  \n",
      " 8   MONTH_ID          2823 non-null   int64  \n",
      " 9   YEAR_ID           2823 non-null   int64  \n",
      " 10  PRODUCTLINE       2823 non-null   object \n",
      " 11  MSRP              2823 non-null   int64  \n",
      " 12  PRODUCTCODE       2823 non-null   object \n",
      " 13  CUSTOMERNAME      2823 non-null   object \n",
      " 14  PHONE             2823 non-null   object \n",
      " 15  ADDRESSLINE1      2823 non-null   object \n",
      " 16  ADDRESSLINE2      302 non-null    object \n",
      " 17  CITY              2823 non-null   object \n",
      " 18  STATE             1337 non-null   object \n",
      " 19  POSTALCODE        2747 non-null   object \n",
      " 20  COUNTRY           2823 non-null   object \n",
      " 21  TERRITORY         1749 non-null   object \n",
      " 22  CONTACTLASTNAME   2823 non-null   object \n",
      " 23  CONTACTFIRSTNAME  2823 non-null   object \n",
      " 24  DEALSIZE          2823 non-null   object \n",
      "dtypes: float64(2), int64(7), object(16)\n",
      "memory usage: 551.5+ KB\n"
     ]
    }
   ],
   "source": [
    "df.info()"
   ]
  },
  {
   "cell_type": "code",
   "execution_count": 13,
   "id": "f369eaee-4a1e-47d5-9990-dd0dd81529af",
   "metadata": {},
   "outputs": [
    {
     "data": {
      "text/html": [
       "<div>\n",
       "<style scoped>\n",
       "    .dataframe tbody tr th:only-of-type {\n",
       "        vertical-align: middle;\n",
       "    }\n",
       "\n",
       "    .dataframe tbody tr th {\n",
       "        vertical-align: top;\n",
       "    }\n",
       "\n",
       "    .dataframe thead th {\n",
       "        text-align: right;\n",
       "    }\n",
       "</style>\n",
       "<table border=\"1\" class=\"dataframe\">\n",
       "  <thead>\n",
       "    <tr style=\"text-align: right;\">\n",
       "      <th></th>\n",
       "      <th>ORDERNUMBER</th>\n",
       "      <th>QUANTITYORDERED</th>\n",
       "      <th>PRICEEACH</th>\n",
       "      <th>ORDERLINENUMBER</th>\n",
       "      <th>SALES</th>\n",
       "      <th>QTR_ID</th>\n",
       "      <th>MONTH_ID</th>\n",
       "      <th>YEAR_ID</th>\n",
       "      <th>MSRP</th>\n",
       "    </tr>\n",
       "  </thead>\n",
       "  <tbody>\n",
       "    <tr>\n",
       "      <th>count</th>\n",
       "      <td>2823.000000</td>\n",
       "      <td>2823.000000</td>\n",
       "      <td>2823.000000</td>\n",
       "      <td>2823.000000</td>\n",
       "      <td>2823.000000</td>\n",
       "      <td>2823.000000</td>\n",
       "      <td>2823.000000</td>\n",
       "      <td>2823.00000</td>\n",
       "      <td>2823.000000</td>\n",
       "    </tr>\n",
       "    <tr>\n",
       "      <th>mean</th>\n",
       "      <td>10258.725115</td>\n",
       "      <td>35.092809</td>\n",
       "      <td>83.658544</td>\n",
       "      <td>6.466171</td>\n",
       "      <td>3553.889072</td>\n",
       "      <td>2.717676</td>\n",
       "      <td>7.092455</td>\n",
       "      <td>2003.81509</td>\n",
       "      <td>100.715551</td>\n",
       "    </tr>\n",
       "    <tr>\n",
       "      <th>std</th>\n",
       "      <td>92.085478</td>\n",
       "      <td>9.741443</td>\n",
       "      <td>20.174277</td>\n",
       "      <td>4.225841</td>\n",
       "      <td>1841.865106</td>\n",
       "      <td>1.203878</td>\n",
       "      <td>3.656633</td>\n",
       "      <td>0.69967</td>\n",
       "      <td>40.187912</td>\n",
       "    </tr>\n",
       "    <tr>\n",
       "      <th>min</th>\n",
       "      <td>10100.000000</td>\n",
       "      <td>6.000000</td>\n",
       "      <td>26.880000</td>\n",
       "      <td>1.000000</td>\n",
       "      <td>482.130000</td>\n",
       "      <td>1.000000</td>\n",
       "      <td>1.000000</td>\n",
       "      <td>2003.00000</td>\n",
       "      <td>33.000000</td>\n",
       "    </tr>\n",
       "    <tr>\n",
       "      <th>25%</th>\n",
       "      <td>10180.000000</td>\n",
       "      <td>27.000000</td>\n",
       "      <td>68.860000</td>\n",
       "      <td>3.000000</td>\n",
       "      <td>2203.430000</td>\n",
       "      <td>2.000000</td>\n",
       "      <td>4.000000</td>\n",
       "      <td>2003.00000</td>\n",
       "      <td>68.000000</td>\n",
       "    </tr>\n",
       "    <tr>\n",
       "      <th>50%</th>\n",
       "      <td>10262.000000</td>\n",
       "      <td>35.000000</td>\n",
       "      <td>95.700000</td>\n",
       "      <td>6.000000</td>\n",
       "      <td>3184.800000</td>\n",
       "      <td>3.000000</td>\n",
       "      <td>8.000000</td>\n",
       "      <td>2004.00000</td>\n",
       "      <td>99.000000</td>\n",
       "    </tr>\n",
       "    <tr>\n",
       "      <th>75%</th>\n",
       "      <td>10333.500000</td>\n",
       "      <td>43.000000</td>\n",
       "      <td>100.000000</td>\n",
       "      <td>9.000000</td>\n",
       "      <td>4508.000000</td>\n",
       "      <td>4.000000</td>\n",
       "      <td>11.000000</td>\n",
       "      <td>2004.00000</td>\n",
       "      <td>124.000000</td>\n",
       "    </tr>\n",
       "    <tr>\n",
       "      <th>max</th>\n",
       "      <td>10425.000000</td>\n",
       "      <td>97.000000</td>\n",
       "      <td>100.000000</td>\n",
       "      <td>18.000000</td>\n",
       "      <td>14082.800000</td>\n",
       "      <td>4.000000</td>\n",
       "      <td>12.000000</td>\n",
       "      <td>2005.00000</td>\n",
       "      <td>214.000000</td>\n",
       "    </tr>\n",
       "  </tbody>\n",
       "</table>\n",
       "</div>"
      ],
      "text/plain": [
       "        ORDERNUMBER  QUANTITYORDERED    PRICEEACH  ORDERLINENUMBER  \\\n",
       "count   2823.000000      2823.000000  2823.000000      2823.000000   \n",
       "mean   10258.725115        35.092809    83.658544         6.466171   \n",
       "std       92.085478         9.741443    20.174277         4.225841   \n",
       "min    10100.000000         6.000000    26.880000         1.000000   \n",
       "25%    10180.000000        27.000000    68.860000         3.000000   \n",
       "50%    10262.000000        35.000000    95.700000         6.000000   \n",
       "75%    10333.500000        43.000000   100.000000         9.000000   \n",
       "max    10425.000000        97.000000   100.000000        18.000000   \n",
       "\n",
       "              SALES       QTR_ID     MONTH_ID     YEAR_ID         MSRP  \n",
       "count   2823.000000  2823.000000  2823.000000  2823.00000  2823.000000  \n",
       "mean    3553.889072     2.717676     7.092455  2003.81509   100.715551  \n",
       "std     1841.865106     1.203878     3.656633     0.69967    40.187912  \n",
       "min      482.130000     1.000000     1.000000  2003.00000    33.000000  \n",
       "25%     2203.430000     2.000000     4.000000  2003.00000    68.000000  \n",
       "50%     3184.800000     3.000000     8.000000  2004.00000    99.000000  \n",
       "75%     4508.000000     4.000000    11.000000  2004.00000   124.000000  \n",
       "max    14082.800000     4.000000    12.000000  2005.00000   214.000000  "
      ]
     },
     "execution_count": 13,
     "metadata": {},
     "output_type": "execute_result"
    }
   ],
   "source": [
    "df.describe()"
   ]
  },
  {
   "cell_type": "markdown",
   "id": "34b6d069-d3f6-4947-ab41-89e3310c9b8c",
   "metadata": {},
   "source": [
    ".shape → Quick check of dataset size.\n",
    "\n",
    ".info() → Tells us which columns have missing values and their data types.\n",
    "\n",
    ".describe() → Gives mean, median, min, max for numeric columns."
   ]
  },
  {
   "cell_type": "code",
   "execution_count": 15,
   "id": "2b7efe56-503e-48ce-be5b-efa35284264e",
   "metadata": {},
   "outputs": [
    {
     "data": {
      "text/plain": [
       "ORDERNUMBER            0\n",
       "QUANTITYORDERED        0\n",
       "PRICEEACH              0\n",
       "ORDERLINENUMBER        0\n",
       "SALES                  0\n",
       "ORDERDATE              0\n",
       "STATUS                 0\n",
       "QTR_ID                 0\n",
       "MONTH_ID               0\n",
       "YEAR_ID                0\n",
       "PRODUCTLINE            0\n",
       "MSRP                   0\n",
       "PRODUCTCODE            0\n",
       "CUSTOMERNAME           0\n",
       "PHONE                  0\n",
       "ADDRESSLINE1           0\n",
       "ADDRESSLINE2        2521\n",
       "CITY                   0\n",
       "STATE               1486\n",
       "POSTALCODE            76\n",
       "COUNTRY                0\n",
       "TERRITORY           1074\n",
       "CONTACTLASTNAME        0\n",
       "CONTACTFIRSTNAME       0\n",
       "DEALSIZE               0\n",
       "dtype: int64"
      ]
     },
     "execution_count": 15,
     "metadata": {},
     "output_type": "execute_result"
    }
   ],
   "source": [
    "#Checking for missing values\n",
    "df.isnull().sum() #count missing (NaN) values per column"
   ]
  },
  {
   "cell_type": "markdown",
   "id": "13e2bd2e-0a8b-4a55-ba39-da5ed6db69a7",
   "metadata": {},
   "source": [
    "isnull() returns a boolean (True for missing).\n",
    "\n",
    ".sum() adds up how many True values each column has."
   ]
  },
  {
   "cell_type": "code",
   "execution_count": 17,
   "id": "60c3783b-20e7-4bc0-8d87-128899eb95a8",
   "metadata": {},
   "outputs": [],
   "source": [
    "df.dropna(subset=['STATE'],inplace=True)"
   ]
  },
  {
   "cell_type": "markdown",
   "id": "de7c6935-aeff-4063-bd7f-166798f931b0",
   "metadata": {},
   "source": [
    ".fillna() replaces missing values with a default (e.g., 'Unknown').\n",
    "\n",
    ".dropna() removes rows that have missing data in critical columns."
   ]
  },
  {
   "cell_type": "code",
   "execution_count": 19,
   "id": "d648e985-df0f-4a61-a9d6-15ddd76a79a2",
   "metadata": {},
   "outputs": [
    {
     "data": {
      "text/plain": [
       "0"
      ]
     },
     "execution_count": 19,
     "metadata": {},
     "output_type": "execute_result"
    }
   ],
   "source": [
    "df.duplicated().sum()"
   ]
  },
  {
   "cell_type": "markdown",
   "id": "588741e9-e4dd-4a3c-9f36-8222f36390e1",
   "metadata": {},
   "source": [
    ".duplicated() checks for repeated rows.\n",
    "\n",
    ".drop_duplicates() keeps only the first occurrence."
   ]
  },
  {
   "cell_type": "code",
   "execution_count": 21,
   "id": "5a911b11-8878-4420-88fe-11db2ae7b684",
   "metadata": {},
   "outputs": [
    {
     "name": "stderr",
     "output_type": "stream",
     "text": [
      "C:\\Users\\vrssv\\AppData\\Local\\Temp\\ipykernel_16484\\3104413123.py:1: FutureWarning: A value is trying to be set on a copy of a DataFrame or Series through chained assignment using an inplace method.\n",
      "The behavior will change in pandas 3.0. This inplace method will never work because the intermediate object on which we are setting values always behaves as a copy.\n",
      "\n",
      "For example, when doing 'df[col].method(value, inplace=True)', try using 'df.method({col: value}, inplace=True)' or df[col] = df[col].method(value) instead, to perform the operation inplace on the original object.\n",
      "\n",
      "\n",
      "  df['STATE'].fillna('Unknown',inplace=True) # Fill missing values in the STATE with Unknown\n"
     ]
    }
   ],
   "source": [
    "df['STATE'].fillna('Unknown',inplace=True) # Fill missing values in the STATE with Unknown"
   ]
  },
  {
   "cell_type": "markdown",
   "id": "1761e8a5-3e52-4e6d-8aca-dff525786080",
   "metadata": {},
   "source": [
    ".duplicated() checks for repeated rows.\n",
    "\n",
    ".drop_duplicates() keeps only the first occurrence."
   ]
  },
  {
   "cell_type": "code",
   "execution_count": 23,
   "id": "61aab5bb-a5b2-4ef1-943b-43e04d473df7",
   "metadata": {},
   "outputs": [],
   "source": [
    "df.columns = df.columns.str.lower().str.replace(' ','_')"
   ]
  },
  {
   "cell_type": "code",
   "execution_count": 24,
   "id": "0d64522d-ba59-4ee8-b2d2-42b4f494fc0b",
   "metadata": {},
   "outputs": [],
   "source": [
    "df.drop_duplicates(inplace=True)"
   ]
  },
  {
   "cell_type": "markdown",
   "id": "0fae8482-8583-4a45-9a6a-754cd48ff2f0",
   "metadata": {},
   "source": [
    "Makes column names Python-friendly for easier coding later.\n",
    "\n",
    "Example: Customer Name → customer_name."
   ]
  },
  {
   "cell_type": "code",
   "execution_count": 26,
   "id": "b374f814-abbc-49e8-a5fe-cfe6cc879eae",
   "metadata": {},
   "outputs": [],
   "source": [
    "#Convert Datatypes\n",
    "#Convert \"orderdate\" to column to datetime format\n",
    "df['orderdate'] = pd.to_datetime(df['orderdate'],errors='coerce')\n",
    "df['sales'] = pd.to_numeric(df['sales'],errors='coerce')"
   ]
  },
  {
   "cell_type": "code",
   "execution_count": 27,
   "id": "20eec4e4-9b8e-4fa8-a431-e2bd5122a21b",
   "metadata": {},
   "outputs": [
    {
     "name": "stdout",
     "output_type": "stream",
     "text": [
      "Found 15 potential outlier\n"
     ]
    }
   ],
   "source": [
    "#Outlier detection\n",
    "#Simple rule:Sales greater than 3 times the standard deviation are outliers\n",
    "sales_mean = df['sales'].mean()\n",
    "sales_std = df['sales'].std()\n",
    "outliers = df[df['sales']>sales_mean + 3*sales_std]\n",
    "\n",
    "print(f\"Found {len(outliers)} potential outlier\")"
   ]
  },
  {
   "cell_type": "markdown",
   "id": "ae5c47fd-f95d-4e30-af6a-e60fac4a8a1a",
   "metadata": {},
   "source": [
    "Calculates mean and standard deviation of sales.\n",
    "\n",
    "Flags unusually high values."
   ]
  },
  {
   "cell_type": "code",
   "execution_count": 29,
   "id": "daf7bd08-aad1-4a82-8f9e-4cf6879d45f5",
   "metadata": {},
   "outputs": [],
   "source": [
    "#Save the cleaned dataset\n",
    "df.to_csv(r\"C:\\Users\\vrssv\\Desktop\\DA\\Challenge\\Day 01\\Sales_data_sample_cleaned.csv\", index=False)"
   ]
  },
  {
   "cell_type": "markdown",
   "id": "5752d624-37e4-4ddf-acd0-bbffda3ac836",
   "metadata": {},
   "source": [
    "Saves the cleaned dataset so you can use it for analysis"
   ]
  },
  {
   "cell_type": "code",
   "execution_count": null,
   "id": "941a3f87-f25f-417a-b212-a9ef886d072a",
   "metadata": {},
   "outputs": [],
   "source": []
  },
  {
   "cell_type": "code",
   "execution_count": null,
   "id": "07f2cd2e-ced5-4e06-9b60-3ffbd9dabd55",
   "metadata": {},
   "outputs": [],
   "source": []
  },
  {
   "cell_type": "code",
   "execution_count": null,
   "id": "cab27dc3-3c09-4624-929c-f9418309d53e",
   "metadata": {},
   "outputs": [],
   "source": []
  },
  {
   "cell_type": "code",
   "execution_count": null,
   "id": "5aafddd9-2ee7-4886-8831-711b8adc06ff",
   "metadata": {},
   "outputs": [],
   "source": []
  },
  {
   "cell_type": "code",
   "execution_count": null,
   "id": "b4b1bc82-8863-44a3-b630-50908ca999ec",
   "metadata": {},
   "outputs": [],
   "source": []
  },
  {
   "cell_type": "code",
   "execution_count": null,
   "id": "73311b7c-01e0-4f0a-8ca8-ee18bd9c28a1",
   "metadata": {},
   "outputs": [],
   "source": []
  },
  {
   "cell_type": "code",
   "execution_count": null,
   "id": "e57729b0-1903-4ab5-b67c-06d854dd83f1",
   "metadata": {},
   "outputs": [],
   "source": []
  }
 ],
 "metadata": {
  "kernelspec": {
   "display_name": "Python 3 (ipykernel)",
   "language": "python",
   "name": "python3"
  },
  "language_info": {
   "codemirror_mode": {
    "name": "ipython",
    "version": 3
   },
   "file_extension": ".py",
   "mimetype": "text/x-python",
   "name": "python",
   "nbconvert_exporter": "python",
   "pygments_lexer": "ipython3",
   "version": "3.12.7"
  }
 },
 "nbformat": 4,
 "nbformat_minor": 5
}
